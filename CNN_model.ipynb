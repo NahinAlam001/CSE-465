{
  "cells": [
    {
      "cell_type": "markdown",
      "metadata": {
        "id": "view-in-github",
        "colab_type": "text"
      },
      "source": [
        "<a href=\"https://colab.research.google.com/github/NahinAlam001/CSE-465/blob/model/CNN_model.ipynb\" target=\"_parent\"><img src=\"https://colab.research.google.com/assets/colab-badge.svg\" alt=\"Open In Colab\"/></a>"
      ]
    },
    {
      "cell_type": "code",
      "source": [
        "import os\n",
        "import gdown\n",
        "import zipfile\n",
        "import torch\n",
        "from torch import nn\n",
        "from pathlib import Path\n",
        "from typing import Dict, List\n",
        "from tqdm.auto import tqdm\n",
        "from torchvision import transforms, datasets\n",
        "from torch.utils.data import DataLoader\n",
        "try:\n",
        "  import torchinfo\n",
        "except:\n",
        "  !pip install torchinfo\n",
        "  import torchinfo\n",
        "from torchinfo import summary\n",
        "\n",
        "device = \"cuda\" if torch.cuda.is_available() else \"cpu\""
      ],
      "metadata": {
        "id": "aIDKub69jLMh"
      },
      "execution_count": 20,
      "outputs": []
    },
    {
      "cell_type": "code",
      "source": [
        "gdown.download('https://drive.google.com/uc?id=1DLWHOlGDNeQNRRuonzaSgwNiT_J1NDx1', 'pcos.zip', quiet=False)\n",
        "with zipfile.ZipFile('pcos.zip', 'r' ) as zip_ref:\n",
        "  zip_ref.extractall()\n",
        "\n",
        "data_path = Path('data')\n",
        "image_path = data_path/'images'\n",
        "train_dir = image_path/'train'\n",
        "test_dir = image_path/'test'"
      ],
      "metadata": {
        "id": "nqvG1SlUjVK2",
        "outputId": "282c1535-1536-4bc3-cc71-d7e468d1b5de",
        "colab": {
          "base_uri": "https://localhost:8080/"
        }
      },
      "execution_count": 2,
      "outputs": [
        {
          "output_type": "stream",
          "name": "stderr",
          "text": [
            "Downloading...\n",
            "From (original): https://drive.google.com/uc?id=1DLWHOlGDNeQNRRuonzaSgwNiT_J1NDx1\n",
            "From (redirected): https://drive.google.com/uc?id=1DLWHOlGDNeQNRRuonzaSgwNiT_J1NDx1&confirm=t&uuid=e4131d2d-49d9-4763-835d-32107412ff2e\n",
            "To: /content/pcos.zip\n",
            "100%|██████████| 132M/132M [00:02<00:00, 50.3MB/s]\n"
          ]
        }
      ]
    },
    {
      "cell_type": "code",
      "source": [
        "transform = transforms.Compose([\n",
        "    transforms.Resize(size=(64,64)),\n",
        "    transforms.ToTensor()\n",
        "])\n",
        "\n",
        "train_data = datasets.ImageFolder(root = train_dir,\n",
        "                                  transform = transform,\n",
        "                                  target_transform = None)\n",
        "\n",
        "test_data = datasets.ImageFolder(root = test_dir,\n",
        "                                  transform = transform)\n",
        "\n",
        "class_names = train_data.classes\n",
        "class_names"
      ],
      "metadata": {
        "id": "stYfwgNejoim",
        "outputId": "43dcd100-491f-4e24-bf9f-eda22614f0c6",
        "colab": {
          "base_uri": "https://localhost:8080/"
        }
      },
      "execution_count": 3,
      "outputs": [
        {
          "output_type": "execute_result",
          "data": {
            "text/plain": [
              "['infected', 'notinfected']"
            ]
          },
          "metadata": {},
          "execution_count": 3
        }
      ]
    },
    {
      "cell_type": "code",
      "source": [
        "BATCH_SIZE = 32\n",
        "NUM_WORKERS = os.cpu_count()\n",
        "\n",
        "train_loader = DataLoader(dataset = train_data,\n",
        "                          batch_size = BATCH_SIZE,\n",
        "                          shuffle = True,\n",
        "                          num_workers = NUM_WORKERS)\n",
        "\n",
        "test_loader = DataLoader(dataset = test_data,\n",
        "                          batch_size = BATCH_SIZE,\n",
        "                          shuffle = False,\n",
        "                          num_workers = NUM_WORKERS)\n",
        "\n",
        "\n",
        "batch_img, batch_label = next(iter(train_loader))\n",
        "batch_img.shape, batch_label.shape"
      ],
      "metadata": {
        "id": "f03pKYuOktqk",
        "outputId": "24e8bf5c-3d17-49ce-b627-8d05f0f9b649",
        "colab": {
          "base_uri": "https://localhost:8080/"
        }
      },
      "execution_count": 4,
      "outputs": [
        {
          "output_type": "stream",
          "name": "stderr",
          "text": [
            "/usr/lib/python3.10/multiprocessing/popen_fork.py:66: RuntimeWarning: os.fork() was called. os.fork() is incompatible with multithreaded code, and JAX is multithreaded, so this will likely lead to a deadlock.\n",
            "  self.pid = os.fork()\n"
          ]
        },
        {
          "output_type": "execute_result",
          "data": {
            "text/plain": [
              "(torch.Size([32, 3, 64, 64]), torch.Size([32]))"
            ]
          },
          "metadata": {},
          "execution_count": 4
        }
      ]
    },
    {
      "cell_type": "code",
      "source": [
        "class NahinGG(nn.Module):\n",
        "  def __init__(self,\n",
        "               input_shape: int,\n",
        "               hidden_unit: int,\n",
        "               output_shape: int)->None:\n",
        "\n",
        "    super().__init__()\n",
        "\n",
        "    self.conv_block1 = nn.Sequential(\n",
        "        nn.Conv2d(in_channels = input_shape,\n",
        "                  out_channels = hidden_unit,\n",
        "                  kernel_size = 3,\n",
        "                  stride = 1,\n",
        "                  padding = 0),\n",
        "        nn.ReLU(),\n",
        "        nn.Conv2d(in_channels = hidden_unit,\n",
        "                  out_channels = hidden_unit,\n",
        "                  kernel_size = 3,\n",
        "                  stride = 1,\n",
        "                  padding = 0),\n",
        "        nn.ReLU(),\n",
        "        nn.MaxPool2d(kernel_size = 2,\n",
        "                     stride = 2))\n",
        "\n",
        "    self.conv_block2 = nn.Sequential(\n",
        "        nn.Conv2d(in_channels = hidden_unit,\n",
        "                  out_channels = hidden_unit,\n",
        "                  kernel_size = 3,\n",
        "                  stride = 1,\n",
        "                  padding = 0),\n",
        "        nn.ReLU(),\n",
        "        nn.Conv2d(in_channels = hidden_unit,\n",
        "                  out_channels = hidden_unit,\n",
        "                  kernel_size = 3,\n",
        "                  stride = 1,\n",
        "                  padding = 0),\n",
        "        nn.ReLU(),\n",
        "        nn.MaxPool2d(kernel_size = 2,\n",
        "                     stride = 2))\n",
        "\n",
        "    self.classifier = nn.Sequential(\n",
        "        nn.Flatten(),\n",
        "        nn.Linear(in_features = 13*13*hidden_unit,\n",
        "                  out_features = output_shape))\n",
        "\n",
        "  def forward(self, x):\n",
        "    return self.classifier(self.conv_block2(self.conv_block1(x)))"
      ],
      "metadata": {
        "id": "s6SvP84_mKtj"
      },
      "execution_count": 5,
      "outputs": []
    },
    {
      "cell_type": "code",
      "source": [
        "model_0 = NahinGG(input_shape = 3,\n",
        "                  hidden_unit = 10,\n",
        "                  output_shape = len(class_names)).to(device)\n",
        "\n",
        "summary(model_0, input_size = [1, 3, 64, 64])"
      ],
      "metadata": {
        "id": "rEfVAhKvor-v",
        "colab": {
          "base_uri": "https://localhost:8080/"
        },
        "outputId": "599918de-065a-458c-c984-dc6059a26080"
      },
      "execution_count": 6,
      "outputs": [
        {
          "output_type": "execute_result",
          "data": {
            "text/plain": [
              "==========================================================================================\n",
              "Layer (type:depth-idx)                   Output Shape              Param #\n",
              "==========================================================================================\n",
              "NahinGG                                  [1, 2]                    --\n",
              "├─Sequential: 1-1                        [1, 10, 30, 30]           --\n",
              "│    └─Conv2d: 2-1                       [1, 10, 62, 62]           280\n",
              "│    └─ReLU: 2-2                         [1, 10, 62, 62]           --\n",
              "│    └─Conv2d: 2-3                       [1, 10, 60, 60]           910\n",
              "│    └─ReLU: 2-4                         [1, 10, 60, 60]           --\n",
              "│    └─MaxPool2d: 2-5                    [1, 10, 30, 30]           --\n",
              "├─Sequential: 1-2                        [1, 10, 13, 13]           --\n",
              "│    └─Conv2d: 2-6                       [1, 10, 28, 28]           910\n",
              "│    └─ReLU: 2-7                         [1, 10, 28, 28]           --\n",
              "│    └─Conv2d: 2-8                       [1, 10, 26, 26]           910\n",
              "│    └─ReLU: 2-9                         [1, 10, 26, 26]           --\n",
              "│    └─MaxPool2d: 2-10                   [1, 10, 13, 13]           --\n",
              "├─Sequential: 1-3                        [1, 2]                    --\n",
              "│    └─Flatten: 2-11                     [1, 1690]                 --\n",
              "│    └─Linear: 2-12                      [1, 2]                    3,382\n",
              "==========================================================================================\n",
              "Total params: 6,392\n",
              "Trainable params: 6,392\n",
              "Non-trainable params: 0\n",
              "Total mult-adds (M): 5.68\n",
              "==========================================================================================\n",
              "Input size (MB): 0.05\n",
              "Forward/backward pass size (MB): 0.71\n",
              "Params size (MB): 0.03\n",
              "Estimated Total Size (MB): 0.79\n",
              "=========================================================================================="
            ]
          },
          "metadata": {},
          "execution_count": 6
        }
      ]
    },
    {
      "cell_type": "code",
      "source": [
        "def train_step(model: torch.nn.Module,\n",
        "               dataloader: torch.utils.data.DataLoader,\n",
        "               loss_fn: torch.nn.Module,\n",
        "               optimizer: torch.optim.Optimizer,\n",
        "               device = device\n",
        "               ):\n",
        "\n",
        "  model.train()\n",
        "\n",
        "  train_loss, train_acc = 0, 0\n",
        "\n",
        "  for batch, (X,y) in enumerate(dataloader):\n",
        "    X, y = X.to(device), y.to(device)\n",
        "\n",
        "    #forward pass\n",
        "    train_pred_logits = model(X)\n",
        "\n",
        "    #calculate the loss\n",
        "    loss = loss_fn(train_pred_logits, y)\n",
        "    train_loss += loss.item()\n",
        "\n",
        "    #optimizer zero grad\n",
        "    optimizer.zero_grad()\n",
        "\n",
        "    #backward propagation\n",
        "    loss.backward()\n",
        "\n",
        "    #optimizer step\n",
        "    optimizer.step()\n",
        "\n",
        "    train_pred_lables = torch.argmax(torch.softmax(train_pred_logits, dim=1), dim=1)\n",
        "    train_acc += (train_pred_lables == y).sum().item()/len(train_pred_lables)\n",
        "\n",
        "  #average loss and accuracy per batch\n",
        "  train_loss /= len(dataloader)\n",
        "  train_acc /= len(dataloader)\n",
        "\n",
        "  return train_loss, train_acc"
      ],
      "metadata": {
        "id": "uMpFUMVPuOMV"
      },
      "execution_count": 7,
      "outputs": []
    },
    {
      "cell_type": "code",
      "source": [
        "def test_step(model = torch.nn.Module,\n",
        "              dataloader = torch.utils.data.DataLoader,\n",
        "              loss_fn = torch.nn.Module,\n",
        "              device = device):\n",
        "\n",
        "  model.eval()\n",
        "\n",
        "  test_loss, test_acc = 0, 0\n",
        "\n",
        "  with torch.inference_mode():\n",
        "    for batch, (X, y) in enumerate(dataloader):\n",
        "      X, y = X.to(device), y.to(device)\n",
        "\n",
        "      test_pred_logits = model(X)\n",
        "\n",
        "      loss = loss_fn(test_pred_logits, y)\n",
        "      test_loss += loss.item()\n",
        "\n",
        "      test_pred_lables = torch.argmax(torch.softmax(test_pred_logits, dim=1), dim=1)\n",
        "      test_acc += (test_pred_lables == y).sum().item()/len(test_pred_lables)\n",
        "\n",
        "    test_loss /= len(dataloader)\n",
        "    test_acc /= len(dataloader)\n",
        "\n",
        "  return test_loss, test_acc"
      ],
      "metadata": {
        "id": "k-_krKrCyks0"
      },
      "execution_count": 8,
      "outputs": []
    },
    {
      "cell_type": "code",
      "source": [
        "def train(model: torch.nn.Module,\n",
        "          train_dataloader: torch.utils.data.DataLoader,\n",
        "          test_dataloader: torch.utils.data.DataLoader,\n",
        "          loss_fn: torch.nn.Module,\n",
        "          optimizer: torch.optim.Optimizer,\n",
        "          epochs: int = 5,\n",
        "          device = device):\n",
        "\n",
        "  results = {\n",
        "      \"train_loss\": [],\n",
        "      \"train_acc\": [],\n",
        "      \"test_loss\": [],\n",
        "      \"test_acc\": []\n",
        "  }\n",
        "\n",
        "  for epoch in tqdm(range(epochs)):\n",
        "    train_loss, train_acc = train_step(model = model,\n",
        "                                       dataloader = train_dataloader,\n",
        "                                       loss_fn = loss_fn,\n",
        "                                       optimizer = optimizer,\n",
        "                                       device = device)\n",
        "\n",
        "    test_loss, test_acc = test_step(model = model,\n",
        "                                    dataloader = test_dataloader,\n",
        "                                    loss_fn = loss_fn,\n",
        "                                    device = device)\n",
        "\n",
        "    print(f'Epoch {epoch} | Train Loss: {train_loss: .4f} | Train Accuracy: {train_acc: .4f} | Test Loss: {test_loss: .4f} | Test Accuracy: {test_acc: .4f}')\n",
        "\n",
        "    results[\"train_loss\"].append(train_loss)\n",
        "    results[\"train_acc\"].append(train_acc)\n",
        "    results[\"test_loss\"].append(test_loss)\n",
        "    results[\"test_acc\"].append(test_acc)\n",
        "\n",
        "  return results"
      ],
      "metadata": {
        "id": "skZ3BWMA1JaY"
      },
      "execution_count": 9,
      "outputs": []
    },
    {
      "cell_type": "code",
      "source": [
        "torch.manual_seed(42)\n",
        "torch.cuda.manual_seed(42)\n",
        "\n",
        "NUM_EPOCHS = 10\n",
        "\n",
        "loss_fn = nn.CrossEntropyLoss()\n",
        "optimizer = torch.optim.Adam(params = model_0.parameters(),\n",
        "                            lr = 1e-3)\n",
        "\n",
        "from timeit import default_timer as timer\n",
        "\n",
        "start_time = timer()\n",
        "model_0_results = train(model = model_0,\n",
        "                        train_dataloader = train_loader,\n",
        "                        test_dataloader = test_loader,\n",
        "                        loss_fn = loss_fn,\n",
        "                        optimizer = optimizer,\n",
        "                        epochs = NUM_EPOCHS,\n",
        "                        device = device)\n",
        "end_time = timer()\n",
        "\n",
        "print(f'Total Training Time: {end_time - start_time: .3f} seconds')"
      ],
      "metadata": {
        "id": "ZF8kC5OJ38uE",
        "outputId": "0da7c066-946a-4c28-cee8-fa0b885437dc",
        "colab": {
          "base_uri": "https://localhost:8080/",
          "height": 256,
          "referenced_widgets": [
            "a020702f17a54b7e875d95bf78fa324c",
            "f4c0b75d0eac428d877f4ccd8b36c206",
            "e621420b052245baa078ab696230b98b",
            "58019a8261af4d03844816513cbee454",
            "a389abcd0dfd41e8948e230ad6ca648e",
            "5ca8e529e112444a9688c99a07d0a7e9",
            "25910496226f43a5a646deaaf9d89ab9",
            "40228c84c16345898d6ba57cabba72ee",
            "fe8f946b734e43f7b5ee7385867d351c",
            "b3aaee95e9c545049652b8dbe1263eed",
            "f884c24cc1164ec2b4a1de3e74660355"
          ]
        }
      },
      "execution_count": 11,
      "outputs": [
        {
          "output_type": "display_data",
          "data": {
            "text/plain": [
              "  0%|          | 0/10 [00:00<?, ?it/s]"
            ],
            "application/vnd.jupyter.widget-view+json": {
              "version_major": 2,
              "version_minor": 0,
              "model_id": "a020702f17a54b7e875d95bf78fa324c"
            }
          },
          "metadata": {}
        },
        {
          "output_type": "stream",
          "name": "stdout",
          "text": [
            "Epoch 0 | Train Loss:  0.2923 | Train Accuracy:  0.8709 | Test Loss:  0.2086 | Test Accuracy:  0.9124\n",
            "Epoch 1 | Train Loss:  0.1266 | Train Accuracy:  0.9508 | Test Loss:  0.0541 | Test Accuracy:  0.9810\n",
            "Epoch 2 | Train Loss:  0.0689 | Train Accuracy:  0.9723 | Test Loss:  0.0079 | Test Accuracy:  0.9980\n",
            "Epoch 3 | Train Loss:  0.0058 | Train Accuracy:  0.9995 | Test Loss:  0.0032 | Test Accuracy:  1.0000\n",
            "Epoch 4 | Train Loss:  0.0017 | Train Accuracy:  1.0000 | Test Loss:  0.0010 | Test Accuracy:  1.0000\n",
            "Epoch 5 | Train Loss:  0.0009 | Train Accuracy:  1.0000 | Test Loss:  0.0007 | Test Accuracy:  1.0000\n",
            "Epoch 6 | Train Loss:  0.0009 | Train Accuracy:  1.0000 | Test Loss:  0.0007 | Test Accuracy:  1.0000\n",
            "Epoch 7 | Train Loss:  0.0004 | Train Accuracy:  1.0000 | Test Loss:  0.0004 | Test Accuracy:  1.0000\n",
            "Epoch 8 | Train Loss:  0.0004 | Train Accuracy:  1.0000 | Test Loss:  0.0006 | Test Accuracy:  1.0000\n",
            "Epoch 9 | Train Loss:  0.0003 | Train Accuracy:  1.0000 | Test Loss:  0.0003 | Test Accuracy:  1.0000\n",
            "Total Training Time:  126.455 seconds\n"
          ]
        }
      ]
    },
    {
      "cell_type": "code",
      "source": [
        "model_0_results"
      ],
      "metadata": {
        "colab": {
          "base_uri": "https://localhost:8080/"
        },
        "id": "y67BZqeK8xCs",
        "outputId": "869b1c9b-09b8-4d16-b533-0fe645359591"
      },
      "execution_count": 13,
      "outputs": [
        {
          "output_type": "execute_result",
          "data": {
            "text/plain": [
              "{'train_loss': [0.29228784669129576,\n",
              "  0.12661124527698658,\n",
              "  0.06885477259075727,\n",
              "  0.005838520196075628,\n",
              "  0.0017078549625858003,\n",
              "  0.0008898411472385261,\n",
              "  0.0009460046646724594,\n",
              "  0.0004377561320429553,\n",
              "  0.0003751250303035018,\n",
              "  0.00027937125291287645],\n",
              " 'train_acc': [0.8709016393442623,\n",
              "  0.9508196721311475,\n",
              "  0.9723360655737705,\n",
              "  0.9994877049180327,\n",
              "  1.0,\n",
              "  1.0,\n",
              "  1.0,\n",
              "  1.0,\n",
              "  1.0,\n",
              "  1.0],\n",
              " 'test_loss': [0.2085506347786696,\n",
              "  0.05412714545363102,\n",
              "  0.007885835142547823,\n",
              "  0.0031782052112068995,\n",
              "  0.0010188700808746527,\n",
              "  0.0007397172526818067,\n",
              "  0.0006994838052333598,\n",
              "  0.00041436594777924705,\n",
              "  0.0005524774006092036,\n",
              "  0.000329938589245893],\n",
              " 'test_acc': [0.9123975409836066,\n",
              "  0.9810450819672131,\n",
              "  0.9979508196721312,\n",
              "  1.0,\n",
              "  1.0,\n",
              "  1.0,\n",
              "  1.0,\n",
              "  1.0,\n",
              "  1.0,\n",
              "  1.0]}"
            ]
          },
          "metadata": {},
          "execution_count": 13
        }
      ]
    },
    {
      "cell_type": "markdown",
      "source": [
        "###Plot the loss curves of model_0"
      ],
      "metadata": {
        "id": "w4MEfBnJ9mOA"
      }
    },
    {
      "cell_type": "code",
      "source": [
        "model_0_results.keys()"
      ],
      "metadata": {
        "colab": {
          "base_uri": "https://localhost:8080/"
        },
        "id": "VetcsOkP90Ei",
        "outputId": "0170ed2c-4f17-47b0-e151-3e0a8c7cf663"
      },
      "execution_count": 14,
      "outputs": [
        {
          "output_type": "execute_result",
          "data": {
            "text/plain": [
              "dict_keys(['train_loss', 'train_acc', 'test_loss', 'test_acc'])"
            ]
          },
          "metadata": {},
          "execution_count": 14
        }
      ]
    },
    {
      "cell_type": "code",
      "source": [
        "def plot_loss_curves(results: Dict[str, List[float]]):\n",
        "    '''Plots training curve from our dict'''\n",
        "    loss = results['train_loss']\n",
        "    test_loss = results['test_loss']\n",
        "    accuracy = results['train_acc']\n",
        "    test_accuracy = results['test_acc']\n",
        "\n",
        "    epochs = range(len(results['train_loss']))\n",
        "\n",
        "    plt.figure(figsize=(15, 7))\n",
        "\n",
        "    plt.subplot(1, 2, 1)\n",
        "    plt.plot(epochs, loss, label='train loss')\n",
        "    plt.plot(epochs, test_loss, label='test loss')\n",
        "    plt.title('Loss')\n",
        "    plt.xlabel('Epochs')\n",
        "    plt.legend()\n",
        "\n",
        "    plt.subplot(1, 2, 2)\n",
        "    plt.plot(epochs, accuracy, label='train accuracy')\n",
        "    plt.plot(epochs, test_accuracy, label='test accuracy')\n",
        "    plt.title('Accuracy')\n",
        "    plt.xlabel('Epochs')\n",
        "    plt.legend()\n",
        "\n",
        "    plt.show()"
      ],
      "metadata": {
        "id": "LNUjEQ2Z97eW"
      },
      "execution_count": 25,
      "outputs": []
    },
    {
      "cell_type": "code",
      "source": [
        "plot_loss_curves(model_0_results)"
      ],
      "metadata": {
        "colab": {
          "base_uri": "https://localhost:8080/",
          "height": 338
        },
        "id": "WLR-HNKjBGck",
        "outputId": "770e7ccb-a356-4c31-a6a4-39ea9d9d67a4"
      },
      "execution_count": 26,
      "outputs": [
        {
          "output_type": "display_data",
          "data": {
            "text/plain": [
              "<Figure size 1500x700 with 2 Axes>"
            ],
            "image/png": "[encoded data removed]"
          },
          "metadata": {}
        }
      ]
    }
  ],
  "metadata": {
    "colab": {
      "provenance": [],
      "gpuType": "T4",
      "include_colab_link": true
    },
    "kernelspec": {
      "display_name": "Python 3",
      "name": "python3"
    },
    "widgets": {
      "application/vnd.jupyter.widget-state+json": {
        "a020702f17a54b7e875d95bf78fa324c": {
          "model_module": "@jupyter-widgets/controls",
          "model_name": "HBoxModel",
          "model_module_version": "1.5.0",
          "state": {
            "_dom_classes": [],
            "_model_module": "@jupyter-widgets/controls",
            "_model_module_version": "1.5.0",
            "_model_name": "HBoxModel",
            "_view_count": null,
            "_view_module": "@jupyter-widgets/controls",
            "_view_module_version": "1.5.0",
            "_view_name": "HBoxView",
            "box_style": "",
            "children": [
              "IPY_MODEL_f4c0b75d0eac428d877f4ccd8b36c206",
              "IPY_MODEL_e621420b052245baa078ab696230b98b",
              "IPY_MODEL_58019a8261af4d03844816513cbee454"
            ],
            "layout": "IPY_MODEL_a389abcd0dfd41e8948e230ad6ca648e"
          }
        },
        "f4c0b75d0eac428d877f4ccd8b36c206": {
          "model_module": "@jupyter-widgets/controls",
          "model_name": "HTMLModel",
          "model_module_version": "1.5.0",
          "state": {
            "_dom_classes": [],
            "_model_module": "@jupyter-widgets/controls",
            "_model_module_version": "1.5.0",
            "_model_name": "HTMLModel",
            "_view_count": null,
            "_view_module": "@jupyter-widgets/controls",
            "_view_module_version": "1.5.0",
            "_view_name": "HTMLView",
            "description": "",
            "description_tooltip": null,
            "layout": "IPY_MODEL_5ca8e529e112444a9688c99a07d0a7e9",
            "placeholder": "​",
            "style": "IPY_MODEL_25910496226f43a5a646deaaf9d89ab9",
            "value": "100%"
          }
        },
        "e621420b052245baa078ab696230b98b": {
          "model_module": "@jupyter-widgets/controls",
          "model_name": "FloatProgressModel",
          "model_module_version": "1.5.0",
          "state": {
            "_dom_classes": [],
            "_model_module": "@jupyter-widgets/controls",
            "_model_module_version": "1.5.0",
            "_model_name": "FloatProgressModel",
            "_view_count": null,
            "_view_module": "@jupyter-widgets/controls",
            "_view_module_version": "1.5.0",
            "_view_name": "ProgressView",
            "bar_style": "success",
            "description": "",
            "description_tooltip": null,
            "layout": "IPY_MODEL_40228c84c16345898d6ba57cabba72ee",
            "max": 10,
            "min": 0,
            "orientation": "horizontal",
            "style": "IPY_MODEL_fe8f946b734e43f7b5ee7385867d351c",
            "value": 10
          }
        },
        "58019a8261af4d03844816513cbee454": {
          "model_module": "@jupyter-widgets/controls",
          "model_name": "HTMLModel",
          "model_module_version": "1.5.0",
          "state": {
            "_dom_classes": [],
            "_model_module": "@jupyter-widgets/controls",
            "_model_module_version": "1.5.0",
            "_model_name": "HTMLModel",
            "_view_count": null,
            "_view_module": "@jupyter-widgets/controls",
            "_view_module_version": "1.5.0",
            "_view_name": "HTMLView",
            "description": "",
            "description_tooltip": null,
            "layout": "IPY_MODEL_b3aaee95e9c545049652b8dbe1263eed",
            "placeholder": "​",
            "style": "IPY_MODEL_f884c24cc1164ec2b4a1de3e74660355",
            "value": " 10/10 [02:06&lt;00:00, 12.24s/it]"
          }
        },
        "a389abcd0dfd41e8948e230ad6ca648e": {
          "model_module": "@jupyter-widgets/base",
          "model_name": "LayoutModel",
          "model_module_version": "1.2.0",
          "state": {
            "_model_module": "@jupyter-widgets/base",
            "_model_module_version": "1.2.0",
            "_model_name": "LayoutModel",
            "_view_count": null,
            "_view_module": "@jupyter-widgets/base",
            "_view_module_version": "1.2.0",
            "_view_name": "LayoutView",
            "align_content": null,
            "align_items": null,
            "align_self": null,
            "border": null,
            "bottom": null,
            "display": null,
            "flex": null,
            "flex_flow": null,
            "grid_area": null,
            "grid_auto_columns": null,
            "grid_auto_flow": null,
            "grid_auto_rows": null,
            "grid_column": null,
            "grid_gap": null,
            "grid_row": null,
            "grid_template_areas": null,
            "grid_template_columns": null,
            "grid_template_rows": null,
            "height": null,
            "justify_content": null,
            "justify_items": null,
            "left": null,
            "margin": null,
            "max_height": null,
            "max_width": null,
            "min_height": null,
            "min_width": null,
            "object_fit": null,
            "object_position": null,
            "order": null,
            "overflow": null,
            "overflow_x": null,
            "overflow_y": null,
            "padding": null,
            "right": null,
            "top": null,
            "visibility": null,
            "width": null
          }
        },
        "5ca8e529e112444a9688c99a07d0a7e9": {
          "model_module": "@jupyter-widgets/base",
          "model_name": "LayoutModel",
          "model_module_version": "1.2.0",
          "state": {
            "_model_module": "@jupyter-widgets/base",
            "_model_module_version": "1.2.0",
            "_model_name": "LayoutModel",
            "_view_count": null,
            "_view_module": "@jupyter-widgets/base",
            "_view_module_version": "1.2.0",
            "_view_name": "LayoutView",
            "align_content": null,
            "align_items": null,
            "align_self": null,
            "border": null,
            "bottom": null,
            "display": null,
            "flex": null,
            "flex_flow": null,
            "grid_area": null,
            "grid_auto_columns": null,
            "grid_auto_flow": null,
            "grid_auto_rows": null,
            "grid_column": null,
            "grid_gap": null,
            "grid_row": null,
            "grid_template_areas": null,
            "grid_template_columns": null,
            "grid_template_rows": null,
            "height": null,
            "justify_content": null,
            "justify_items": null,
            "left": null,
            "margin": null,
            "max_height": null,
            "max_width": null,
            "min_height": null,
            "min_width": null,
            "object_fit": null,
            "object_position": null,
            "order": null,
            "overflow": null,
            "overflow_x": null,
            "overflow_y": null,
            "padding": null,
            "right": null,
            "top": null,
            "visibility": null,
            "width": null
          }
        },
        "25910496226f43a5a646deaaf9d89ab9": {
          "model_module": "@jupyter-widgets/controls",
          "model_name": "DescriptionStyleModel",
          "model_module_version": "1.5.0",
          "state": {
            "_model_module": "@jupyter-widgets/controls",
            "_model_module_version": "1.5.0",
            "_model_name": "DescriptionStyleModel",
            "_view_count": null,
            "_view_module": "@jupyter-widgets/base",
            "_view_module_version": "1.2.0",
            "_view_name": "StyleView",
            "description_width": ""
          }
        },
        "40228c84c16345898d6ba57cabba72ee": {
          "model_module": "@jupyter-widgets/base",
          "model_name": "LayoutModel",
          "model_module_version": "1.2.0",
          "state": {
            "_model_module": "@jupyter-widgets/base",
            "_model_module_version": "1.2.0",
            "_model_name": "LayoutModel",
            "_view_count": null,
            "_view_module": "@jupyter-widgets/base",
            "_view_module_version": "1.2.0",
            "_view_name": "LayoutView",
            "align_content": null,
            "align_items": null,
            "align_self": null,
            "border": null,
            "bottom": null,
            "display": null,
            "flex": null,
            "flex_flow": null,
            "grid_area": null,
            "grid_auto_columns": null,
            "grid_auto_flow": null,
            "grid_auto_rows": null,
            "grid_column": null,
            "grid_gap": null,
            "grid_row": null,
            "grid_template_areas": null,
            "grid_template_columns": null,
            "grid_template_rows": null,
            "height": null,
            "justify_content": null,
            "justify_items": null,
            "left": null,
            "margin": null,
            "max_height": null,
            "max_width": null,
            "min_height": null,
            "min_width": null,
            "object_fit": null,
            "object_position": null,
            "order": null,
            "overflow": null,
            "overflow_x": null,
            "overflow_y": null,
            "padding": null,
            "right": null,
            "top": null,
            "visibility": null,
            "width": null
          }
        },
        "fe8f946b734e43f7b5ee7385867d351c": {
          "model_module": "@jupyter-widgets/controls",
          "model_name": "ProgressStyleModel",
          "model_module_version": "1.5.0",
          "state": {
            "_model_module": "@jupyter-widgets/controls",
            "_model_module_version": "1.5.0",
            "_model_name": "ProgressStyleModel",
            "_view_count": null,
            "_view_module": "@jupyter-widgets/base",
            "_view_module_version": "1.2.0",
            "_view_name": "StyleView",
            "bar_color": null,
            "description_width": ""
          }
        },
        "b3aaee95e9c545049652b8dbe1263eed": {
          "model_module": "@jupyter-widgets/base",
          "model_name": "LayoutModel",
          "model_module_version": "1.2.0",
          "state": {
            "_model_module": "@jupyter-widgets/base",
            "_model_module_version": "1.2.0",
            "_model_name": "LayoutModel",
            "_view_count": null,
            "_view_module": "@jupyter-widgets/base",
            "_view_module_version": "1.2.0",
            "_view_name": "LayoutView",
            "align_content": null,
            "align_items": null,
            "align_self": null,
            "border": null,
            "bottom": null,
            "display": null,
            "flex": null,
            "flex_flow": null,
            "grid_area": null,
            "grid_auto_columns": null,
            "grid_auto_flow": null,
            "grid_auto_rows": null,
            "grid_column": null,
            "grid_gap": null,
            "grid_row": null,
            "grid_template_areas": null,
            "grid_template_columns": null,
            "grid_template_rows": null,
            "height": null,
            "justify_content": null,
            "justify_items": null,
            "left": null,
            "margin": null,
            "max_height": null,
            "max_width": null,
            "min_height": null,
            "min_width": null,
            "object_fit": null,
            "object_position": null,
            "order": null,
            "overflow": null,
            "overflow_x": null,
            "overflow_y": null,
            "padding": null,
            "right": null,
            "top": null,
            "visibility": null,
            "width": null
          }
        },
        "f884c24cc1164ec2b4a1de3e74660355": {
          "model_module": "@jupyter-widgets/controls",
          "model_name": "DescriptionStyleModel",
          "model_module_version": "1.5.0",
          "state": {
            "_model_module": "@jupyter-widgets/controls",
            "_model_module_version": "1.5.0",
            "_model_name": "DescriptionStyleModel",
            "_view_count": null,
            "_view_module": "@jupyter-widgets/base",
            "_view_module_version": "1.2.0",
            "_view_name": "StyleView",
            "description_width": ""
          }
        }
      }
    },
    "accelerator": "GPU"
  },
  "nbformat": 4,
  "nbformat_minor": 0
}